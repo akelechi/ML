{
 "cells": [
  {
   "cell_type": "code",
   "execution_count": 61,
   "id": "3d4a9fca",
   "metadata": {},
   "outputs": [],
   "source": [
    "import copy\n",
    "from rdkit.Chem import rdDepictor\n",
    "from rdkit.Chem import rdFMCS\n",
    "from rdkit import DataStructs\n",
    "from rdkit import Chem\n",
    "from rdkit.Chem.Draw import IPythonConsole\n",
    "from rdkit.Chem import AllChem\n",
    "from rdkit.Chem import Draw\n",
    "from rdkit.Chem.rdmolops import ReplaceSidechains\n",
    "import openbabel\n",
    "import os\n",
    "import pandas as pd\n",
    "import numpy as np\n",
    "from rdkit.Chem.Draw import rdMolDraw2D\n",
    "from IPython.display import SVG,display_svg\n",
    "IPythonConsole.drawOptions.addAtomIndices = True\n",
    "IPythonConsole.molSize = 300,300\n",
    "import matplotlib.pyplot as plt\n",
    "import math\n",
    "from sklearn.neighbors import KNeighborsClassifier\n",
    "from sklearn.linear_model import LogisticRegression\n",
    "from sklearn.model_selection import train_test_split\n",
    "from sklearn.preprocessing import StandardScaler\n",
    "from sklearn.svm import SVC\n",
    "from sklearn.naive_bayes import GaussianNB\n",
    "from sklearn.linear_model import SGDClassifier\n",
    "from sklearn.metrics import ConfusionMatrixDisplay\n"
   ]
  },
  {
   "cell_type": "code",
   "execution_count": 6,
   "id": "c11fd1c0",
   "metadata": {},
   "outputs": [],
   "source": [
    "nmrData  = pd.read_csv('NMRDatum.csv',header= None)\n",
    "nmrData = nmrData.replace(np.nan,0)"
   ]
  },
  {
   "cell_type": "code",
   "execution_count": 37,
   "id": "689575e0",
   "metadata": {},
   "outputs": [],
   "source": [
    "#Store data in array. Each index contains atom index, multiplicity and shift for a given substituted molecule.\n",
    "numOfMolecules = int(np.shape(nmrData)[1])\n",
    "SubstitutedMoleculesNMR = []\n",
    "molecule = []\n",
    "count = 0\n",
    "for i in range(numOfMolecules+1):\n",
    "    if len(molecule) == 2:     \n",
    "        SubstitutedMoleculesNMR.append(molecule)\n",
    "        molecule = []\n",
    "        if i< numOfMolecules:\n",
    "            data = nmrData[i]\n",
    "            #data = [x for x in data if pd.isnull(x) == False]\n",
    "            data = [float(s) for s in data]\n",
    "            molecule.append(data)\n",
    "    else:\n",
    "        if i< numOfMolecules:\n",
    "            data = nmrData[i]\n",
    "            #data = [x for x in data if pd.isnull(x) == False]\n",
    "            data = [float(s) for s in data]\n",
    "            molecule.append(data)\n",
    "          \n"
   ]
  },
  {
   "cell_type": "code",
   "execution_count": 38,
   "id": "afeae99d",
   "metadata": {},
   "outputs": [],
   "source": [
    "#Reduce the dimensionality of the input matrix\n",
    "SubstitutedMoleculesNMR = np.array(SubstitutedMoleculesNMR)\n",
    "nsamples, nx, ny = SubstitutedMoleculesNMR.shape\n",
    "train_dataset = SubstitutedMoleculesNMR.reshape((nsamples,nx*ny))"
   ]
  },
  {
   "cell_type": "code",
   "execution_count": 20,
   "id": "516495b4",
   "metadata": {},
   "outputs": [],
   "source": [
    "PhenylPresence = np.ones(17) #Create output vector for the first 17 molecules\n",
    "PhenylAbsence = np.zeros(12) #Create output vector for the last 12 molecules\n",
    "\n",
    "                                        \n",
    "output = np.concatenate([PhenylPresence,PhenylAbsence])"
   ]
  },
  {
   "cell_type": "code",
   "execution_count": 21,
   "id": "0a4cbd7f",
   "metadata": {},
   "outputs": [
    {
     "name": "stdout",
     "output_type": "stream",
     "text": [
      "(29,)\n"
     ]
    },
    {
     "data": {
      "text/plain": [
       "(29, 2, 45)"
      ]
     },
     "execution_count": 21,
     "metadata": {},
     "output_type": "execute_result"
    }
   ],
   "source": [
    "print(output.shape)\n",
    "SubstitutedMoleculesNMR.shape"
   ]
  },
  {
   "cell_type": "code",
   "execution_count": 66,
   "id": "b5bc5fd8",
   "metadata": {},
   "outputs": [],
   "source": [
    "#KNN\n",
    "\n",
    "X_train, X_test, y_train, y_test = train_test_split(\n",
    "            train_dataset, output, test_size = 0.2, random_state=42)\n",
    " \n",
    "neighbors = np.arange(1, 9) #For this program, we only need two neighbors, but we wonder if the machine was going to find\n",
    "train_accuracy = np.empty(len(neighbors))\n",
    "test_accuracy = np.empty(len(neighbors))\n",
    "\n",
    "# Loop over K values to determine reasonable value of K(K=3 works best) \n",
    "for i, k in enumerate(neighbors):\n",
    "    knn = KNeighborsClassifier(n_neighbors=k)\n",
    "    knn.fit(X_train, y_train)\n",
    "    \n",
    "    # Compute training and test data accuracy\n",
    "    train_accuracy[i] = knn.score(X_train, y_train)\n",
    "    test_accuracy[i] = knn.score(X_test, y_test)\n",
    "\n",
    "\n",
    " "
   ]
  },
  {
   "cell_type": "code",
   "execution_count": 67,
   "id": "9268e2b7",
   "metadata": {},
   "outputs": [
    {
     "data": {
      "text/plain": [
       "Text(0, 0.5, 'Testing Accuracy')"
      ]
     },
     "execution_count": 67,
     "metadata": {},
     "output_type": "execute_result"
    },
    {
     "data": {
      "image/png": "[encoded data removed]",
      "text/plain": [
       "<Figure size 432x288 with 1 Axes>"
      ]
     },
     "metadata": {
      "needs_background": "light"
     },
     "output_type": "display_data"
    }
   ],
   "source": [
    "# plot the relationship between K and testing accuracy\n",
    "# plt.plot(x_axis, y_axis)\n",
    "plt.plot(neighbors, test_accuracy)\n",
    "plt.xlabel('Value of K for KNN')\n",
    "plt.ylabel('Testing Accuracy')\n"
   ]
  },
  {
   "cell_type": "code",
   "execution_count": 68,
   "id": "f1e27377",
   "metadata": {},
   "outputs": [
    {
     "data": {
      "text/plain": [
       "<sklearn.metrics._plot.confusion_matrix.ConfusionMatrixDisplay at 0x7fa4ae065430>"
      ]
     },
     "execution_count": 68,
     "metadata": {},
     "output_type": "execute_result"
    },
    {
     "data": {
      "image/png": "[encoded data removed]",
      "text/plain": [
       "<Figure size 432x288 with 2 Axes>"
      ]
     },
     "metadata": {
      "needs_background": "light"
     },
     "output_type": "display_data"
    }
   ],
   "source": [
    "knn = KNeighborsClassifier(n_neighbors=3)\n",
    "knn.fit(X_train, y_train)\n",
    "y_pred = knn.predict(X_test)\n",
    "ConfusionMatrixDisplay.from_predictions( y_test, y_pred)"
   ]
  },
  {
   "cell_type": "code",
   "execution_count": 69,
   "id": "89b401c6",
   "metadata": {},
   "outputs": [
    {
     "data": {
      "text/plain": [
       "<sklearn.metrics._plot.confusion_matrix.ConfusionMatrixDisplay at 0x7fa4ad663370>"
      ]
     },
     "execution_count": 69,
     "metadata": {},
     "output_type": "execute_result"
    },
    {
     "data": {
      "image/png": "[encoded data removed]",
      "text/plain": [
       "<Figure size 432x288 with 2 Axes>"
      ]
     },
     "metadata": {
      "needs_background": "light"
     },
     "output_type": "display_data"
    }
   ],
   "source": [
    "#Logistic Regression\n",
    "logreg = LogisticRegression(solver='lbfgs', max_iter=400)\n",
    "logreg.fit(X_train, y_train)\n",
    "y_pred = logreg.predict(X_test)\n",
    "ConfusionMatrixDisplay.from_predictions(y_test, y_pred)"
   ]
  },
  {
   "cell_type": "code",
   "execution_count": null,
   "id": "c6993301",
   "metadata": {},
   "outputs": [],
   "source": []
  }
 ],
 "metadata": {
  "kernelspec": {
   "display_name": "Python 3",
   "language": "python",
   "name": "python3"
  },
  "language_info": {
   "codemirror_mode": {
    "name": "ipython",
    "version": 3
   },
   "file_extension": ".py",
   "mimetype": "text/x-python",
   "name": "python",
   "nbconvert_exporter": "python",
   "pygments_lexer": "ipython3",
   "version": "3.8.8"
  }
 },
 "nbformat": 4,
 "nbformat_minor": 5
}

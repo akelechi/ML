{
 "cells": [
  {
   "cell_type": "code",
   "execution_count": 34,
   "id": "3d4a9fca",
   "metadata": {},
   "outputs": [],
   "source": [
    "import copy\n",
    "from rdkit.Chem import rdDepictor\n",
    "from rdkit.Chem import rdFMCS\n",
    "from rdkit import DataStructs\n",
    "from rdkit import Chem\n",
    "from rdkit.Chem.Draw import IPythonConsole\n",
    "from rdkit.Chem import AllChem\n",
    "from rdkit.Chem import Draw\n",
    "from rdkit.Chem.rdmolops import ReplaceSidechains\n",
    "import openbabel\n",
    "import os\n",
    "import pandas as pd\n",
    "import numpy as np\n",
    "from rdkit.Chem.Draw import rdMolDraw2D\n",
    "from IPython.display import SVG,display_svg\n",
    "IPythonConsole.drawOptions.addAtomIndices = True\n",
    "IPythonConsole.molSize = 300,300\n",
    "import matplotlib.pyplot as plt\n",
    "import math"
   ]
  },
  {
   "cell_type": "code",
   "execution_count": 112,
   "id": "689575e0",
   "metadata": {},
   "outputs": [],
   "source": [
    "#Store data in array. Each index contains atom index, multiplicity and shift for a given substituted molecule.\n",
    "numOfMolecules = int(np.shape(nmrData)[1]/3)\n",
    "SubstitutedMoleculesNMR = []\n",
    "molecule = []\n",
    "count = 0\n",
    "for i in range(0, numOfMolecules):\n",
    "    if len(molecule) == 3:\n",
    "        SubstitutedMoleculesNMR.append(molecule)\n",
    "        molecule = []\n",
    "        count = 0\n",
    "        data = nmrData[i]\n",
    "        data = [x for x in data if pd.isnull(x) == False]\n",
    "        molecule.append(data)\n",
    "    else:\n",
    "        data = nmrData[i]\n",
    "        data = [x for x in data if pd.isnull(x) == False]\n",
    "        molecule.append(data)\n",
    "        "
   ]
  },
  {
   "cell_type": "code",
   "execution_count": 36,
   "id": "76d01505",
   "metadata": {},
   "outputs": [],
   "source": [
    "#We would hope that  RDKit and the Smiles strings will give us the same atom indexing that was on the website.\n",
    "\n",
    "from rdkit import Chem\n",
    "from rdkit.Chem.Draw import IPythonConsole\n",
    "\n",
    "def show_atom_number(mol,label):\n",
    "    for atom in mol.GetAtoms():\n",
    "        atom.SetAtomMapNum(atom.GetIdx())\n",
    "    return mol\n",
    "\n"
   ]
  },
  {
   "cell_type": "code",
   "execution_count": null,
   "id": "c11fd1c0",
   "metadata": {},
   "outputs": [],
   "source": []
  }
 ],
 "metadata": {
  "kernelspec": {
   "display_name": "Python 3",
   "language": "python",
   "name": "python3"
  },
  "language_info": {
   "codemirror_mode": {
    "name": "ipython",
    "version": 3
   },
   "file_extension": ".py",
   "mimetype": "text/x-python",
   "name": "python",
   "nbconvert_exporter": "python",
   "pygments_lexer": "ipython3",
   "version": "3.8.8"
  }
 },
 "nbformat": 4,
 "nbformat_minor": 5
}

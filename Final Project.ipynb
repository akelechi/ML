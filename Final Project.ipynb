{
 "cells": [
  {
   "cell_type": "code",
   "execution_count": 3,
   "id": "3d4a9fca",
   "metadata": {},
   "outputs": [
    {
     "name": "stderr",
     "output_type": "stream",
     "text": [
      "RDKit WARNING: [16:22:13] Enabling RDKit 2019.09.3 jupyter extensions\n"
     ]
    }
   ],
   "source": [
    "import copy\n",
    "from rdkit.Chem import rdDepictor\n",
    "from rdkit.Chem import rdFMCS\n",
    "from rdkit import DataStructs\n",
    "from rdkit import Chem\n",
    "from rdkit.Chem.Draw import IPythonConsole\n",
    "from rdkit.Chem import AllChem\n",
    "from rdkit.Chem import Draw\n",
    "from rdkit.Chem.rdmolops import ReplaceSidechains\n",
    "import openbabel\n",
    "import os\n",
    "import pandas as pd\n",
    "import numpy as np\n",
    "from rdkit.Chem.Draw import rdMolDraw2D\n",
    "from IPython.display import SVG,display_svg\n",
    "IPythonConsole.drawOptions.addAtomIndices = True\n",
    "IPythonConsole.molSize = 300,300\n",
    "import matplotlib.pyplot as plt\n",
    "import math\n",
    "from sklearn.neighbors import KNeighborsClassifier\n",
    "from sklearn.model_selection import train_test_split\n",
    "from sklearn.svm import SVC\n",
    "from sklearn.naive_bayes import GaussianNB\n",
    "from sklearn.linear_model import SGDClassifier\n"
   ]
  },
  {
   "cell_type": "code",
   "execution_count": 4,
   "id": "76d01505",
   "metadata": {},
   "outputs": [],
   "source": [
    "#We would hope that  RDKit and the Smiles strings will give us the same atom indexing that was on the website.\n",
    "\n",
    "def show_atom_number(mol):\n",
    "    for atom in mol.GetAtoms():\n",
    "        atom.SetAtomMapNum(atom.GetIdx()+1)\n",
    "    return mol\n",
    "\n"
   ]
  },
  {
   "cell_type": "code",
   "execution_count": 29,
   "id": "3db41112",
   "metadata": {},
   "outputs": [
    {
     "data": {
      "image/png": "[encoded data removed]",
      "text/plain": [
       "<rdkit.Chem.rdchem.Mol at 0x7fb03003d460>"
      ]
     },
     "execution_count": 29,
     "metadata": {},
     "output_type": "execute_result"
    }
   ],
   "source": [
    "\n",
    "m = Chem.MolFromSmiles('CC=C(C)C1=CC(=C(C(=C1C(=O)OC2=C(C(=C(C(=C2)C(=CC)C)C(=O)O)O)C)O)C)O')\n",
    "show_atom_number(m)"
   ]
  },
  {
   "cell_type": "code",
   "execution_count": 10,
   "id": "c11fd1c0",
   "metadata": {},
   "outputs": [],
   "source": [
    "nmrData  = pd.read_csv('NMRDatum.csv',header= None)\n",
    "nmrData = nmrData.replace(np.nan,0)"
   ]
  },
  {
   "cell_type": "code",
   "execution_count": 13,
   "id": "689575e0",
   "metadata": {},
   "outputs": [
    {
     "name": "stdout",
     "output_type": "stream",
     "text": [
      "\n",
      "\n",
      "[128.5, 128.5, 128.5, 128.5, 128.5, 128.5, 0.0, 0.0, 0.0, 0.0, 0.0, 0.0, 0.0, 0.0, 0.0, 0.0, 0.0, 0.0, 0.0, 0.0, 0.0, 0.0, 0.0, 0.0, 0.0, 0.0, 0.0, 0.0, 0.0, 0.0, 0.0, 0.0, 0.0, 0.0, 0.0, 0.0, 0.0, 0.0, 0.0, 0.0, 0.0, 0.0, 0.0, 0.0, 0.0]\n",
      "\n",
      "\n",
      "[50.0, 50.0, 50.0, 50.0, 50.0, 50.0, 0.0, 0.0, 0.0, 0.0, 0.0, 0.0, 0.0, 0.0, 0.0, 0.0, 0.0, 0.0, 0.0, 0.0, 0.0, 0.0, 0.0, 0.0, 0.0, 0.0, 0.0, 0.0, 0.0, 0.0, 0.0, 0.0, 0.0, 0.0, 0.0, 0.0, 0.0, 0.0, 0.0, 0.0, 0.0, 0.0, 0.0, 0.0, 0.0]\n",
      "\n",
      "\n",
      "[[128.5, 128.5, 128.5, 128.5, 128.5, 128.5, 0.0, 0.0, 0.0, 0.0, 0.0, 0.0, 0.0, 0.0, 0.0, 0.0, 0.0, 0.0, 0.0, 0.0, 0.0, 0.0, 0.0, 0.0, 0.0, 0.0, 0.0, 0.0, 0.0, 0.0, 0.0, 0.0, 0.0, 0.0, 0.0, 0.0, 0.0, 0.0, 0.0, 0.0, 0.0, 0.0, 0.0, 0.0, 0.0], [50.0, 50.0, 50.0, 50.0, 50.0, 50.0, 0.0, 0.0, 0.0, 0.0, 0.0, 0.0, 0.0, 0.0, 0.0, 0.0, 0.0, 0.0, 0.0, 0.0, 0.0, 0.0, 0.0, 0.0, 0.0, 0.0, 0.0, 0.0, 0.0, 0.0, 0.0, 0.0, 0.0, 0.0, 0.0, 0.0, 0.0, 0.0, 0.0, 0.0, 0.0, 0.0, 0.0, 0.0, 0.0]]\n",
      "Length of molecule 1 is 2\n",
      "\n",
      "\n",
      "[50.0, 10.0, 10.0, 85.0, 10.0, 10.0, 85.0, 10.0, 50.0, 85.0, 10.0, 10.0, 50.0, 10.0, 10.0, 85.0, 10.0, 10.0, 85.0, 10.0, 50.0, 85.0, 10.0, 10.0, 0.0, 0.0, 0.0, 0.0, 0.0, 0.0, 0.0, 0.0, 0.0, 0.0, 0.0, 0.0, 0.0, 0.0, 0.0, 0.0, 0.0, 0.0, 0.0, 0.0, 0.0]\n",
      "\n",
      "\n",
      "[[108.4, 159.8, 109.4, 8.1, 159.8, 146.0, 18.3, 137.5, 120.9, 13.5, 104.6, 168.1, 113.2, 151.2, 116.4, 9.0, 159.5, 145.6, 18.2, 137.4, 121.0, 13.7, 112.4, 171.7, 0.0, 0.0, 0.0, 0.0, 0.0, 0.0, 0.0, 0.0, 0.0, 0.0, 0.0, 0.0, 0.0, 0.0, 0.0, 0.0, 0.0, 0.0, 0.0, 0.0, 0.0], [50.0, 10.0, 10.0, 85.0, 10.0, 10.0, 85.0, 10.0, 50.0, 85.0, 10.0, 10.0, 50.0, 10.0, 10.0, 85.0, 10.0, 10.0, 85.0, 10.0, 50.0, 85.0, 10.0, 10.0, 0.0, 0.0, 0.0, 0.0, 0.0, 0.0, 0.0, 0.0, 0.0, 0.0, 0.0, 0.0, 0.0, 0.0, 0.0, 0.0, 0.0, 0.0, 0.0, 0.0, 0.0]]\n",
      "Length of molecule 2 is 2\n",
      "\n",
      "\n",
      "[50.0, 50.0, 10.0, 10.0, 10.0, 50.0, 50.0, 50.0, 10.0, 10.0, 10.0, 10.0, 85.0, 10.0, 50.0, 50.0, 50.0, 50.0, 65.0, 0.0, 0.0, 0.0, 0.0, 0.0, 0.0, 0.0, 0.0, 0.0, 0.0, 0.0, 0.0, 0.0, 0.0, 0.0, 0.0, 0.0, 0.0, 0.0, 0.0, 0.0, 0.0, 0.0, 0.0, 0.0, 0.0]\n",
      "\n",
      "\n",
      "[[95.68, 96.13, 109.41, 163.68, 144.34, 108.35, 108.35, 107.54, 198.96, 159.66, 159.66, 166.29, 56.63, 159.79, 108.25, 78.44, 83.14, 87.32, 62.8, 0.0, 0.0, 0.0, 0.0, 0.0, 0.0, 0.0, 0.0, 0.0, 0.0, 0.0, 0.0, 0.0, 0.0, 0.0, 0.0, 0.0, 0.0, 0.0, 0.0, 0.0, 0.0, 0.0, 0.0, 0.0, 0.0], [50.0, 50.0, 10.0, 10.0, 10.0, 50.0, 50.0, 50.0, 10.0, 10.0, 10.0, 10.0, 85.0, 10.0, 50.0, 50.0, 50.0, 50.0, 65.0, 0.0, 0.0, 0.0, 0.0, 0.0, 0.0, 0.0, 0.0, 0.0, 0.0, 0.0, 0.0, 0.0, 0.0, 0.0, 0.0, 0.0, 0.0, 0.0, 0.0, 0.0, 0.0, 0.0, 0.0, 0.0, 0.0]]\n",
      "Length of molecule 3 is 2\n",
      "\n",
      "\n",
      "[10.0, 50.0, 10.0, 50.0, 50.0, 50.0, 50.0, 50.0, 50.0, 10.0, 10.0, 10.0, 10.0, 10.0, 10.0, 50.0, 50.0, 10.0, 10.0, 85.0, 0.0, 0.0, 0.0, 0.0, 0.0, 0.0, 0.0, 0.0, 0.0, 0.0, 0.0, 0.0, 0.0, 0.0, 0.0, 0.0, 0.0, 0.0, 0.0, 0.0, 0.0, 0.0, 0.0, 0.0, 0.0]\n",
      "\n",
      "\n",
      "[[144.2, 115.6, 118.8, 128.0, 139.4, 131.5, 117.7, 124.3, 125.3, 150.8, 130.1, 118.8, 122.5, 121.9, 125.0, 132.7, 115.2, 182.2, 143.9, 56.4, 0.0, 0.0, 0.0, 0.0, 0.0, 0.0, 0.0, 0.0, 0.0, 0.0, 0.0, 0.0, 0.0, 0.0, 0.0, 0.0, 0.0, 0.0, 0.0, 0.0, 0.0, 0.0, 0.0, 0.0, 0.0], [10.0, 50.0, 10.0, 50.0, 50.0, 50.0, 50.0, 50.0, 50.0, 10.0, 10.0, 10.0, 10.0, 10.0, 10.0, 50.0, 50.0, 10.0, 10.0, 85.0, 0.0, 0.0, 0.0, 0.0, 0.0, 0.0, 0.0, 0.0, 0.0, 0.0, 0.0, 0.0, 0.0, 0.0, 0.0, 0.0, 0.0, 0.0, 0.0, 0.0, 0.0, 0.0, 0.0, 0.0, 0.0]]\n",
      "Length of molecule 4 is 2\n",
      "\n",
      "\n",
      "[10.0, 50.0, 50.0, 50.0, 50.0, 10.0, 10.0, 10.0, 10.0, 50.0, 50.0, 10.0, 10.0, 10.0, 50.0, 50.0, 10.0, 50.0, 50.0, 50.0, 50.0, 50.0, 50.0, 50.0, 50.0, 50.0, 50.0, 0.0, 0.0, 0.0, 0.0, 0.0, 0.0, 0.0, 0.0, 0.0, 0.0, 0.0, 0.0, 0.0, 0.0, 0.0, 0.0, 0.0, 0.0]\n",
      "\n",
      "\n",
      "[[144.8, 110.5, 124.7, 119.8, 119.5, 139.4, 123.8, 118.0, 136.2, 121.0, 109.8, 104.9, 151.2, 82.5, 128.0, 118.2, 144.8, 127.0, 128.1, 127.4, 128.1, 127.0, 127.0, 128.1, 127.4, 128.1, 127.0, 0.0, 0.0, 0.0, 0.0, 0.0, 0.0, 0.0, 0.0, 0.0, 0.0, 0.0, 0.0, 0.0, 0.0, 0.0, 0.0, 0.0, 0.0], [10.0, 50.0, 50.0, 50.0, 50.0, 10.0, 10.0, 10.0, 10.0, 50.0, 50.0, 10.0, 10.0, 10.0, 50.0, 50.0, 10.0, 50.0, 50.0, 50.0, 50.0, 50.0, 50.0, 50.0, 50.0, 50.0, 50.0, 0.0, 0.0, 0.0, 0.0, 0.0, 0.0, 0.0, 0.0, 0.0, 0.0, 0.0, 0.0, 0.0, 0.0, 0.0, 0.0, 0.0, 0.0]]\n",
      "Length of molecule 5 is 2\n",
      "\n",
      "\n",
      "[10.0, 50.0, 50.0, 10.0, 50.0, 50.0, 10.0, 50.0, 50.0, 10.0, 50.0, 50.0, 10.0, 50.0, 50.0, 10.0, 50.0, 50.0, 10.0, 50.0, 50.0, 10.0, 50.0, 50.0, 50.0, 50.0, 10.0, 65.0, 50.0, 85.0, 50.0, 50.0, 85.0, 10.0, 50.0, 50.0, 85.0, 85.0, 0.0, 0.0, 0.0, 0.0, 0.0, 0.0, 0.0]\n",
      "\n",
      "\n",
      "[[141.26, 127.72, 129.26, 135.41, 129.26, 127.72, 131.48, 128.51, 129.08, 136.41, 129.08, 128.51, 134.01, 126.45, 129.26, 139.19, 129.26, 126.45, 137.68, 127.72, 129.59, 141.26, 129.59, 127.72, 58.61, 65.35, 82.73, 48.51, 51.03, 21.48, 133.0, 128.33, 21.14, 203.22, 125.95, 143.8, 20.98, 20.97, 0.0, 0.0, 0.0, 0.0, 0.0, 0.0, 0.0], [10.0, 50.0, 50.0, 10.0, 50.0, 50.0, 10.0, 50.0, 50.0, 10.0, 50.0, 50.0, 10.0, 50.0, 50.0, 10.0, 50.0, 50.0, 10.0, 50.0, 50.0, 10.0, 50.0, 50.0, 50.0, 50.0, 10.0, 65.0, 50.0, 85.0, 50.0, 50.0, 85.0, 10.0, 50.0, 50.0, 85.0, 85.0, 0.0, 0.0, 0.0, 0.0, 0.0, 0.0, 0.0]]\n",
      "Length of molecule 6 is 2\n",
      "\n",
      "\n",
      "[10.0, 10.0, 10.0, 10.0, 10.0, 50.0, 10.0, 10.0, 85.0, 10.0, 50.0, 50.0, 10.0, 10.0, 85.0, 10.0, 65.0, 85.0, 50.0, 50.0, 65.0, 65.0, 65.0, 50.0, 10.0, 10.0, 50.0, 85.0, 10.0, 10.0, 85.0, 50.0, 50.0, 50.0, 50.0, 65.0, 65.0, 50.0, 10.0, 85.0, 65.0, 50.0, 65.0, 65.0, 85.0]\n",
      "\n",
      "\n",
      "[[134.49, 111.92, 136.3, 129.59, 153.8, 83.82, 54.09, 123.92, 38.53, 80.64, 77.2, 65.33, 43.54, 172.26, 51.83, 170.94, 31.44, 8.46, 131.51, 124.91, 51.04, 50.44, 45.65, 124.39, 121.86, 158.98, 94.57, 56.29, 56.39, 175.11, 52.36, 118.67, 119.86, 122.5, 112.3, 47.65, 52.01, 31.86, 126.84, 21.62, 35.72, 30.77, 48.72, 31.6, 21.1], [10.0, 10.0, 10.0, 10.0, 10.0, 50.0, 10.0, 10.0, 85.0, 10.0, 50.0, 50.0, 10.0, 10.0, 85.0, 10.0, 65.0, 85.0, 50.0, 50.0, 65.0, 65.0, 65.0, 50.0, 10.0, 10.0, 50.0, 85.0, 10.0, 10.0, 85.0, 50.0, 50.0, 50.0, 50.0, 65.0, 65.0, 50.0, 10.0, 85.0, 65.0, 50.0, 65.0, 65.0, 85.0]]\n",
      "Length of molecule 7 is 2\n",
      "\n",
      "\n",
      "[50.0, 10.0, 10.0, 10.0, 10.0, 50.0, 50.0, 10.0, 50.0, 50.0, 10.0, 10.0, 10.0, 85.0, 85.0, 50.0, 0.0, 0.0, 0.0, 0.0, 0.0, 0.0, 0.0, 0.0, 0.0, 0.0, 0.0, 0.0, 0.0, 0.0, 0.0, 0.0, 0.0, 0.0, 0.0, 0.0, 0.0, 0.0, 0.0, 0.0, 0.0, 0.0, 0.0, 0.0, 0.0]\n",
      "\n",
      "\n",
      "[[37.7, 104.1, 145.8, 142.9, 110.7, 128.9, 127.0, 148.5, 127.0, 128.9, 132.7, 167.9, 166.5, 51.2, 17.8, 186.5, 0.0, 0.0, 0.0, 0.0, 0.0, 0.0, 0.0, 0.0, 0.0, 0.0, 0.0, 0.0, 0.0, 0.0, 0.0, 0.0, 0.0, 0.0, 0.0, 0.0, 0.0, 0.0, 0.0, 0.0, 0.0, 0.0, 0.0, 0.0, 0.0], [50.0, 10.0, 10.0, 10.0, 10.0, 50.0, 50.0, 10.0, 50.0, 50.0, 10.0, 10.0, 10.0, 85.0, 85.0, 50.0, 0.0, 0.0, 0.0, 0.0, 0.0, 0.0, 0.0, 0.0, 0.0, 0.0, 0.0, 0.0, 0.0, 0.0, 0.0, 0.0, 0.0, 0.0, 0.0, 0.0, 0.0, 0.0, 0.0, 0.0, 0.0, 0.0, 0.0, 0.0, 0.0]]\n",
      "Length of molecule 8 is 2\n",
      "\n",
      "\n",
      "[10.0, 50.0, 50.0, 10.0, 50.0, 50.0, 10.0, 0.0, 0.0, 0.0, 0.0, 0.0, 0.0, 0.0, 0.0, 0.0, 0.0, 0.0, 0.0, 0.0, 0.0, 0.0, 0.0, 0.0, 0.0, 0.0, 0.0, 0.0, 0.0, 0.0, 0.0, 0.0, 0.0, 0.0, 0.0, 0.0, 0.0, 0.0, 0.0, 0.0, 0.0, 0.0, 0.0, 0.0, 0.0]\n",
      "\n",
      "\n",
      "[[149.36, 112.95, 126.15, 120.52, 126.15, 112.95, 151.18, 0.0, 0.0, 0.0, 0.0, 0.0, 0.0, 0.0, 0.0, 0.0, 0.0, 0.0, 0.0, 0.0, 0.0, 0.0, 0.0, 0.0, 0.0, 0.0, 0.0, 0.0, 0.0, 0.0, 0.0, 0.0, 0.0, 0.0, 0.0, 0.0, 0.0, 0.0, 0.0, 0.0, 0.0, 0.0, 0.0, 0.0, 0.0], [10.0, 50.0, 50.0, 10.0, 50.0, 50.0, 10.0, 0.0, 0.0, 0.0, 0.0, 0.0, 0.0, 0.0, 0.0, 0.0, 0.0, 0.0, 0.0, 0.0, 0.0, 0.0, 0.0, 0.0, 0.0, 0.0, 0.0, 0.0, 0.0, 0.0, 0.0, 0.0, 0.0, 0.0, 0.0, 0.0, 0.0, 0.0, 0.0, 0.0, 0.0, 0.0, 0.0, 0.0, 0.0]]\n",
      "Length of molecule 9 is 2\n",
      "\n",
      "\n",
      "[10.0, 50.0, 10.0, 50.0, 50.0, 50.0, 50.0, 50.0, 50.0, 10.0, 10.0, 10.0, 10.0, 10.0, 10.0, 50.0, 50.0, 10.0, 10.0, 85.0, 0.0, 0.0, 0.0, 0.0, 0.0, 0.0, 0.0, 0.0, 0.0, 0.0, 0.0, 0.0, 0.0, 0.0, 0.0, 0.0, 0.0, 0.0, 0.0, 0.0, 0.0, 0.0, 0.0, 0.0, 0.0]\n",
      "\n",
      "\n",
      "[[144.2, 115.6, 118.8, 128.0, 139.4, 131.5, 117.7, 124.3, 125.3, 150.8, 130.1, 118.8, 122.5, 121.9, 125.0, 132.7, 115.2, 182.2, 143.9, 56.4, 0.0, 0.0, 0.0, 0.0, 0.0, 0.0, 0.0, 0.0, 0.0, 0.0, 0.0, 0.0, 0.0, 0.0, 0.0, 0.0, 0.0, 0.0, 0.0, 0.0, 0.0, 0.0, 0.0, 0.0, 0.0], [10.0, 50.0, 10.0, 50.0, 50.0, 50.0, 50.0, 50.0, 50.0, 10.0, 10.0, 10.0, 10.0, 10.0, 10.0, 50.0, 50.0, 10.0, 10.0, 85.0, 0.0, 0.0, 0.0, 0.0, 0.0, 0.0, 0.0, 0.0, 0.0, 0.0, 0.0, 0.0, 0.0, 0.0, 0.0, 0.0, 0.0, 0.0, 0.0, 0.0, 0.0, 0.0, 0.0, 0.0, 0.0]]\n",
      "Length of molecule 10 is 2\n",
      "\n",
      "\n",
      "[10.0, 50.0, 50.0, 10.0, 50.0, 0.0, 0.0, 0.0, 0.0, 0.0, 0.0, 0.0, 0.0, 0.0, 0.0, 0.0, 0.0, 0.0, 0.0, 0.0, 0.0, 0.0, 0.0, 0.0, 0.0, 0.0, 0.0, 0.0, 0.0, 0.0, 0.0, 0.0, 0.0, 0.0, 0.0, 0.0, 0.0, 0.0, 0.0, 0.0, 0.0, 0.0, 0.0, 0.0, 0.0]\n",
      "\n",
      "\n",
      "[[111.6, 156.1, 138.0, 156.0, 156.7, 0.0, 0.0, 0.0, 0.0, 0.0, 0.0, 0.0, 0.0, 0.0, 0.0, 0.0, 0.0, 0.0, 0.0, 0.0, 0.0, 0.0, 0.0, 0.0, 0.0, 0.0, 0.0, 0.0, 0.0, 0.0, 0.0, 0.0, 0.0, 0.0, 0.0, 0.0, 0.0, 0.0, 0.0, 0.0, 0.0, 0.0, 0.0, 0.0, 0.0], [10.0, 50.0, 50.0, 10.0, 50.0, 0.0, 0.0, 0.0, 0.0, 0.0, 0.0, 0.0, 0.0, 0.0, 0.0, 0.0, 0.0, 0.0, 0.0, 0.0, 0.0, 0.0, 0.0, 0.0, 0.0, 0.0, 0.0, 0.0, 0.0, 0.0, 0.0, 0.0, 0.0, 0.0, 0.0, 0.0, 0.0, 0.0, 0.0, 0.0, 0.0, 0.0, 0.0, 0.0, 0.0]]\n",
      "Length of molecule 11 is 2\n",
      "\n",
      "\n",
      "[10.0, 50.0, 10.0, 10.0, 10.0, 10.0, 10.0, 10.0, 10.0, 10.0, 50.0, 50.0, 50.0, 10.0, 10.0, 65.0, 85.0, 85.0, 0.0, 0.0, 0.0, 0.0, 0.0, 0.0, 0.0, 0.0, 0.0, 0.0, 0.0, 0.0, 0.0, 0.0, 0.0, 0.0, 0.0, 0.0, 0.0, 0.0, 0.0, 0.0, 0.0, 0.0, 0.0, 0.0, 0.0]\n",
      "\n",
      "\n",
      "[[158.2, 100.2, 157.9, 128.7, 151.0, 105.4, 179.2, 155.1, 139.2, 124.9, 108.7, 109.0, 124.0, 150.1, 148.6, 102.5, 61.3, 60.1, 0.0, 0.0, 0.0, 0.0, 0.0, 0.0, 0.0, 0.0, 0.0, 0.0, 0.0, 0.0, 0.0, 0.0, 0.0, 0.0, 0.0, 0.0, 0.0, 0.0, 0.0, 0.0, 0.0, 0.0, 0.0, 0.0, 0.0], [10.0, 50.0, 10.0, 10.0, 10.0, 10.0, 10.0, 10.0, 10.0, 10.0, 50.0, 50.0, 50.0, 10.0, 10.0, 65.0, 85.0, 85.0, 0.0, 0.0, 0.0, 0.0, 0.0, 0.0, 0.0, 0.0, 0.0, 0.0, 0.0, 0.0, 0.0, 0.0, 0.0, 0.0, 0.0, 0.0, 0.0, 0.0, 0.0, 0.0, 0.0, 0.0, 0.0, 0.0, 0.0]]\n",
      "Length of molecule 12 is 2\n",
      "\n",
      "\n",
      "[10.0, 50.0, 50.0, 10.0, 10.0, 10.0, 10.0, 10.0, 10.0, 50.0, 10.0, 10.0, 10.0, 85.0, 85.0, 0.0, 0.0, 0.0, 0.0, 0.0, 0.0, 0.0, 0.0, 0.0, 0.0, 0.0, 0.0, 0.0, 0.0, 0.0, 0.0, 0.0, 0.0, 0.0, 0.0, 0.0, 0.0, 0.0, 0.0, 0.0, 0.0, 0.0, 0.0, 0.0, 0.0]\n",
      "\n",
      "\n",
      "[[146.8, 124.1, 113.0, 145.1, 114.3, 149.3, 180.5, 102.5, 151.9, 93.0, 158.3, 130.3, 154.3, 60.9, 59.8, 0.0, 0.0, 0.0, 0.0, 0.0, 0.0, 0.0, 0.0, 0.0, 0.0, 0.0, 0.0, 0.0, 0.0, 0.0, 0.0, 0.0, 0.0, 0.0, 0.0, 0.0, 0.0, 0.0, 0.0, 0.0, 0.0, 0.0, 0.0, 0.0, 0.0], [10.0, 50.0, 50.0, 10.0, 10.0, 10.0, 10.0, 10.0, 10.0, 50.0, 10.0, 10.0, 10.0, 85.0, 85.0, 0.0, 0.0, 0.0, 0.0, 0.0, 0.0, 0.0, 0.0, 0.0, 0.0, 0.0, 0.0, 0.0, 0.0, 0.0, 0.0, 0.0, 0.0, 0.0, 0.0, 0.0, 0.0, 0.0, 0.0, 0.0, 0.0, 0.0, 0.0, 0.0, 0.0]]\n",
      "Length of molecule 13 is 2\n",
      "\n",
      "\n",
      "[65.0, 50.0, 50.0, 50.0, 50.0, 10.0, 10.0, 50.0, 10.0, 10.0, 10.0, 50.0, 10.0, 50.0, 10.0, 10.0, 50.0, 50.0, 85.0, 85.0, 0.0, 0.0, 0.0, 0.0, 0.0, 0.0, 0.0, 0.0, 0.0, 0.0, 0.0, 0.0, 0.0, 0.0, 0.0, 0.0, 0.0, 0.0, 0.0, 0.0, 0.0, 0.0, 0.0, 0.0, 0.0]\n",
      "\n",
      "\n",
      "[[76.4, 53.9, 57.0, 87.8, 89.9, 182.4, 143.4, 107.0, 152.3, 139.8, 152.3, 107.0, 136.0, 115.81, 148.9, 149.2, 119.0, 121.0, 59.6, 59.6, 0.0, 0.0, 0.0, 0.0, 0.0, 0.0, 0.0, 0.0, 0.0, 0.0, 0.0, 0.0, 0.0, 0.0, 0.0, 0.0, 0.0, 0.0, 0.0, 0.0, 0.0, 0.0, 0.0, 0.0, 0.0], [65.0, 50.0, 50.0, 50.0, 50.0, 10.0, 10.0, 50.0, 10.0, 10.0, 10.0, 50.0, 10.0, 50.0, 10.0, 10.0, 50.0, 50.0, 85.0, 85.0, 0.0, 0.0, 0.0, 0.0, 0.0, 0.0, 0.0, 0.0, 0.0, 0.0, 0.0, 0.0, 0.0, 0.0, 0.0, 0.0, 0.0, 0.0, 0.0, 0.0, 0.0, 0.0, 0.0, 0.0, 0.0]]\n",
      "Length of molecule 14 is 2\n",
      "\n",
      "\n",
      "[50.0, 50.0, 50.0, 50.0, 10.0, 50.0, 10.0, 10.0, 65.0, 10.0, 10.0, 10.0, 10.0, 10.0, 10.0, 10.0, 50.0, 85.0, 85.0, 85.0, 85.0, 85.0, 85.0, 10.0, 10.0, 50.0, 85.0, 85.0, 0.0, 0.0, 0.0, 0.0, 0.0, 0.0, 0.0, 0.0, 0.0, 0.0, 0.0, 0.0, 0.0, 0.0, 0.0, 0.0, 0.0]\n",
      "\n",
      "\n",
      "[[80.8, 40.0, 40.0, 82.2, 140.8, 102.0, 135.4, 148.6, 101.0, 141.6, 121.8, 131.3, 119.9, 152.4, 142.0, 152.6, 110.7, 14.6, 15.6, 60.5, 56.0, 59.3, 60.8, 166.9, 128.3, 137.2, 11.7, 14.2, 0.0, 0.0, 0.0, 0.0, 0.0, 0.0, 0.0, 0.0, 0.0, 0.0, 0.0, 0.0, 0.0, 0.0, 0.0, 0.0, 0.0], [50.0, 50.0, 50.0, 50.0, 10.0, 50.0, 10.0, 10.0, 65.0, 10.0, 10.0, 10.0, 10.0, 10.0, 10.0, 10.0, 50.0, 85.0, 85.0, 85.0, 85.0, 85.0, 85.0, 10.0, 10.0, 50.0, 85.0, 85.0, 0.0, 0.0, 0.0, 0.0, 0.0, 0.0, 0.0, 0.0, 0.0, 0.0, 0.0, 0.0, 0.0, 0.0, 0.0, 0.0, 0.0]]\n",
      "Length of molecule 15 is 2\n",
      "\n",
      "\n",
      "[50.0, 50.0, 10.0, 10.0, 10.0, 50.0, 10.0, 65.0, 10.0, 50.0, 50.0, 50.0, 50.0, 50.0, 50.0, 50.0, 50.0, 50.0, 50.0, 65.0, 0.0, 0.0, 0.0, 0.0, 0.0, 0.0, 0.0, 0.0, 0.0, 0.0, 0.0, 0.0, 0.0, 0.0, 0.0, 0.0, 0.0, 0.0, 0.0, 0.0, 0.0, 0.0, 0.0, 0.0, 0.0]\n",
      "\n",
      "\n",
      "[[134.3, 108.0, 160.1, 108.1, 158.5, 111.9, 170.3, 68.4, 137.6, 129.5, 129.8, 129.5, 129.8, 129.5, 103.0, 75.2, 78.2, 71.5, 78.6, 62.8, 0.0, 0.0, 0.0, 0.0, 0.0, 0.0, 0.0, 0.0, 0.0, 0.0, 0.0, 0.0, 0.0, 0.0, 0.0, 0.0, 0.0, 0.0, 0.0, 0.0, 0.0, 0.0, 0.0, 0.0, 0.0], [50.0, 50.0, 10.0, 10.0, 10.0, 50.0, 10.0, 65.0, 10.0, 50.0, 50.0, 50.0, 50.0, 50.0, 50.0, 50.0, 50.0, 50.0, 50.0, 65.0, 0.0, 0.0, 0.0, 0.0, 0.0, 0.0, 0.0, 0.0, 0.0, 0.0, 0.0, 0.0, 0.0, 0.0, 0.0, 0.0, 0.0, 0.0, 0.0, 0.0, 0.0, 0.0, 0.0, 0.0, 0.0]]\n",
      "Length of molecule 16 is 2\n"
     ]
    }
   ],
   "source": [
    "#Store data in array. Each index contains atom index, multiplicity and shift for a given substituted molecule.\n",
    "numOfMolecules = int(np.shape(nmrData)[1])\n",
    "SubstitutedMoleculesNMR = []\n",
    "molecule = []\n",
    "count = 0\n",
    "for i in range(numOfMolecules+1):\n",
    "    if len(molecule) == 2:\n",
    "        print('\\n') \n",
    "        print(molecule)\n",
    "        count = count+1\n",
    "        print('Length of molecule', count, 'is' , len(molecule));\n",
    "        \n",
    "        SubstitutedMoleculesNMR.append(molecule)\n",
    "        molecule = []\n",
    "        if i< 32:\n",
    "            data = nmrData[i]\n",
    "            #data = [x for x in data if pd.isnull(x) == False]\n",
    "            data = [float(s) for s in data]\n",
    "            molecule.append(data)\n",
    "    else:\n",
    "        if i< 32:\n",
    "            data = nmrData[i]\n",
    "            #data = [x for x in data if pd.isnull(x) == False]\n",
    "            data = [float(s) for s in data]\n",
    "            molecule.append(data)\n",
    "            print('\\n')  \n",
    "            print(data)\n"
   ]
  },
  {
   "cell_type": "code",
   "execution_count": 18,
   "id": "afeae99d",
   "metadata": {},
   "outputs": [
    {
     "data": {
      "text/plain": [
       "array([[128.5 , 128.5 , 128.5 , ...,   0.  ,   0.  ,   0.  ],\n",
       "       [108.4 , 159.8 , 109.4 , ...,   0.  ,   0.  ,   0.  ],\n",
       "       [ 95.68,  96.13, 109.41, ...,   0.  ,   0.  ,   0.  ],\n",
       "       ...,\n",
       "       [ 76.4 ,  53.9 ,  57.  , ...,   0.  ,   0.  ,   0.  ],\n",
       "       [ 80.8 ,  40.  ,  40.  , ...,   0.  ,   0.  ,   0.  ],\n",
       "       [134.3 , 108.  , 160.1 , ...,   0.  ,   0.  ,   0.  ]])"
      ]
     },
     "execution_count": 18,
     "metadata": {},
     "output_type": "execute_result"
    }
   ],
   "source": [
    "SubstitutedMoleculesNMR = np.array(SubstitutedMoleculesNMR)\n",
    "nsamples, nx, ny = SubstitutedMoleculesNMR.shape\n",
    "d2_train_dataset = SubstitutedMoleculesNMR.reshape((nsamples,nx*ny))\n",
    "d2_train_dataset"
   ]
  },
  {
   "cell_type": "code",
   "execution_count": 15,
   "id": "516495b4",
   "metadata": {},
   "outputs": [],
   "source": [
    "ind = int(numOfMolecules/2)\n",
    "PhenylPresence = np.ones(ind) #Create output vector for the molecules, \n",
    "                                         #indicating presence or absence of phenyl group\n"
   ]
  },
  {
   "cell_type": "code",
   "execution_count": 16,
   "id": "0a4cbd7f",
   "metadata": {},
   "outputs": [
    {
     "name": "stdout",
     "output_type": "stream",
     "text": [
      "(16,)\n"
     ]
    },
    {
     "data": {
      "text/plain": [
       "(16, 2, 45)"
      ]
     },
     "execution_count": 16,
     "metadata": {},
     "output_type": "execute_result"
    }
   ],
   "source": [
    "print(PhenylPresence.shape)\n",
    "SubstitutedMoleculesNMR.shape"
   ]
  },
  {
   "cell_type": "code",
   "execution_count": 19,
   "id": "b5bc5fd8",
   "metadata": {},
   "outputs": [],
   "source": [
    "X_train, X_test, y_train, y_test = train_test_split(\n",
    "             d2_train_dataset, PhenylPresence, test_size = 0.2, random_state=42)\n",
    " \n",
    "neighbors = np.arange(1, 9)\n",
    "train_accuracy = np.empty(len(neighbors))\n",
    "test_accuracy = np.empty(len(neighbors))\n",
    " \n",
    "# Loop over K values\n",
    "for i, k in enumerate(neighbors):\n",
    "    knn = KNeighborsClassifier(n_neighbors=k)\n",
    "    knn.fit(X_train, y_train)\n",
    "     \n",
    "    # Compute training and test data accuracy\n",
    "    train_accuracy[i] = knn.score(X_train, y_train)\n",
    "    test_accuracy[i] = knn.score(X_test, y_test)\n",
    " "
   ]
  },
  {
   "cell_type": "code",
   "execution_count": null,
   "id": "9268e2b7",
   "metadata": {},
   "outputs": [],
   "source": [
    "nb = GaussianNB()"
   ]
  }
 ],
 "metadata": {
  "kernelspec": {
   "display_name": "Python 3",
   "language": "python",
   "name": "python3"
  },
  "language_info": {
   "codemirror_mode": {
    "name": "ipython",
    "version": 3
   },
   "file_extension": ".py",
   "mimetype": "text/x-python",
   "name": "python",
   "nbconvert_exporter": "python",
   "pygments_lexer": "ipython3",
   "version": "3.8.8"
  }
 },
 "nbformat": 4,
 "nbformat_minor": 5
}
